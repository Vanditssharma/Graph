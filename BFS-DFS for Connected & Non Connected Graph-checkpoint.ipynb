{
 "cells": [
  {
   "cell_type": "code",
   "execution_count": 5,
   "metadata": {},
   "outputs": [],
   "source": [
    "import queue\n",
    "class Graph:\n",
    "    \n",
    "    def __init__(self,nVertices):\n",
    "        self.nVertices = nVertices\n",
    "        self.adMatrix = [[0 for i in range(nVertices)] for j in range(nVertices)]\n",
    "        \n",
    "    def addEdge(self,v1,v2):\n",
    "        self.adMatrix[v1][v2] = 1\n",
    "        self.adMatrix[v2][v1] = 1\n",
    "        \n",
    "    def removeEdge(self,v1,v2):\n",
    "        if self.containsEdge(v1,v2) is False:\n",
    "            return\n",
    "        self.adMatrix[v2][v1] = 0\n",
    "        self.adMatrix[v1][v2] = 1\n",
    "    \n",
    "    def containsEdge(self,v1,v2):\n",
    "        if self.adMatrix[v1][v2]>0 :\n",
    "            return True\n",
    "        else:\n",
    "            return False\n",
    "    \n",
    "    def dfs(self):\n",
    "        visited = [False for i in range(self.nVertices)]\n",
    "        for i in range(self.nVertices):\n",
    "            if visited[i] is False:\n",
    "                self.__dfsHelper(i,visited)\n",
    "        \n",
    "    def __dfsHelper(self,sv,visited):\n",
    "        print(sv)\n",
    "        visited[sv] = True\n",
    "        \n",
    "        for i in range(self.nVertices):\n",
    "            if self.adMatrix[sv][i] > 0 and visited[i] is False:\n",
    "                self.__dfsHelper(i,visited)\n",
    "            \n",
    "    def bfs(self):\n",
    "        visited = [False for i in range(self.nVertices)]\n",
    "        for i in range(self.nVertices):\n",
    "            if visited[i] is False:\n",
    "                self.__bfsHelper(i,visited)\n",
    "        \n",
    "    def __bfsHelper(self,sv,visited):\n",
    "        q=queue.Queue()\n",
    "        q.put(sv)\n",
    "        visited[sv] = True\n",
    "        \n",
    "        while q.empty() is False:\n",
    "            u = q.get()\n",
    "            print(u)\n",
    "            \n",
    "            for i in range(self.nVertices):\n",
    "                \n",
    "                if self.adMatrix[u][i]>0 and visited[i] is False:\n",
    "                    q.put(i)\n",
    "                    visited[i] = True\n",
    "            \n",
    "        \n",
    "        \n",
    "    #Overwriting __str__ to print adMatrix\n",
    "    \n",
    "    def __str__(self):\n",
    "        return str(self.adMatrix)"
   ]
  },
  {
   "cell_type": "code",
   "execution_count": 8,
   "metadata": {},
   "outputs": [
    {
     "name": "stdout",
     "output_type": "stream",
     "text": [
      "0\n",
      "1\n",
      "3\n",
      "2\n",
      "4\n",
      "6\n",
      "5\n"
     ]
    }
   ],
   "source": [
    "#Non Connected Graph\n",
    "g = Graph(7)\n",
    "g.addEdge(0,1)\n",
    "g.addEdge(0,3)\n",
    "g.addEdge(2,4)\n",
    "g.addEdge(2,5)\n",
    "g.addEdge(4,6)\n",
    "g.dfs()"
   ]
  },
  {
   "cell_type": "code",
   "execution_count": 9,
   "metadata": {},
   "outputs": [
    {
     "name": "stdout",
     "output_type": "stream",
     "text": [
      "0\n",
      "1\n",
      "3\n",
      "2\n",
      "4\n",
      "5\n",
      "6\n"
     ]
    }
   ],
   "source": [
    "g.bfs()"
   ]
  }
 ],
 "metadata": {
  "kernelspec": {
   "display_name": "Python 3",
   "language": "python",
   "name": "python3"
  },
  "language_info": {
   "codemirror_mode": {
    "name": "ipython",
    "version": 3
   },
   "file_extension": ".py",
   "mimetype": "text/x-python",
   "name": "python",
   "nbconvert_exporter": "python",
   "pygments_lexer": "ipython3",
   "version": "3.7.4"
  }
 },
 "nbformat": 4,
 "nbformat_minor": 2
}
